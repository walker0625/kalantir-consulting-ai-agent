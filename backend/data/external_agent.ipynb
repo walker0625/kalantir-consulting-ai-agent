{
 "cells": [
  {
   "cell_type": "code",
   "execution_count": 10,
   "id": "a1cd0830",
   "metadata": {},
   "outputs": [
    {
     "data": {
      "text/plain": [
       "'WALKER_AGENT'"
      ]
     },
     "execution_count": 10,
     "metadata": {},
     "output_type": "execute_result"
    }
   ],
   "source": [
    "from dotenv import load_dotenv\n",
    "import os\n",
    "\n",
    "load_dotenv()\n",
    "os.environ[\"LANGSMITH_PROJECT\"]"
   ]
  },
  {
   "cell_type": "markdown",
   "id": "ab3b409b",
   "metadata": {},
   "source": [
    "# 1. WEB"
   ]
  },
  {
   "cell_type": "code",
   "execution_count": 11,
   "id": "f7c6c31f",
   "metadata": {},
   "outputs": [],
   "source": [
    "from langchain_openai import ChatOpenAI\n",
    "from langchain.agents import create_openai_tools_agent, AgentExecutor\n",
    "from langchain_core.prompts import ChatPromptTemplate\n",
    "from langchain_tavily import TavilySearch"
   ]
  },
  {
   "cell_type": "code",
   "execution_count": 12,
   "id": "7541c2b8",
   "metadata": {},
   "outputs": [],
   "source": [
    "# 1. LLM 설정\n",
    "llm = ChatOpenAI(model='gpt-4.1-mini', temperature=0)\n",
    "\n",
    "# 2. TOOL 설정\n",
    "tavily_search = TavilySearch(max_result=3)\n",
    "\n",
    "# 3. PROMPT \n",
    "prompt = ChatPromptTemplate.from_messages([\n",
    "    ('system', '너는 툴만 사용해서 사실을 확인하고 간단하게 대답해줘'),\n",
    "    ('human', '{input}'),\n",
    "    ('placeholder', '{agent_scratchpad}') # tool 사용 결과를 담는 임시 공간\n",
    "])\n",
    "\n",
    "# 4. 단일 AGENT 생성\n",
    "agent = create_openai_tools_agent(\n",
    "    llm=llm,\n",
    "    tools=[tavily_search],\n",
    "    prompt=prompt\n",
    ")\n",
    "\n",
    "# 5. AGENT EXECUTOR 설정\n",
    "executor = AgentExecutor(\n",
    "    agent=agent,\n",
    "    tools=[tavily_search],\n",
    "    verbose=True\n",
    ")"
   ]
  },
  {
   "cell_type": "code",
   "execution_count": 5,
   "id": "9816cec6",
   "metadata": {},
   "outputs": [
    {
     "name": "stdout",
     "output_type": "stream",
     "text": [
      "\n",
      "\n",
      "\u001b[1m> Entering new AgentExecutor chain...\u001b[0m\n",
      "\u001b[32;1m\u001b[1;3m\n",
      "Invoking: `tavily_search` with `{'query': '삼성전자 AI 도입 사업 분야', 'search_depth': 'advanced'}`\n",
      "\n",
      "\n",
      "\u001b[0m\u001b[36;1m\u001b[1;3m{'query': '삼성전자 AI 도입 사업 분야', 'follow_up_questions': None, 'answer': None, 'images': [], 'results': [{'url': 'https://news.samsung.com/kr/%EC%82%BC%EC%84%B1-openai%EC%99%80-%ED%95%A8%EA%BB%98-%EC%B0%A8%EC%84%B8%EB%8C%80-ai-%EB%8D%B0%EC%9D%B4%ED%84%B0%EC%84%BC%ED%84%B0-%ED%98%81%EC%8B%A0-%EC%A3%BC%EB%8F%84', 'title': '삼성, OpenAI와 함께 차세대 AI 데이터센터 혁신 주도', 'content': '삼성전자는 ▲메모리 기술력 ▲글로벌 반도체 업계 1위 생산 능력 ▲안정적인 글로벌 생산 거점을 기반으로 OpenAI와 같은 글로벌 AI 선도 기업과의 협력을 강화할 예정이다.\\n\\n또한, 미래 AI 경쟁력을 제고하기 위해 ▲대규모 R&D 투자 ▲선제적 국내외 시설 투자 ▲국내외 우수 인재 육성과 유치를 지속할 방침이다.\\n\\n삼성SDS, 삼성물산, 삼성중공업도 AI 사업 기회를 확대해 한국이 AI 분야에서 글로벌 인공지능 3대 강국으로 도약하는 데 기여할 계획이다.\\n\\n한편, 삼성은 임직원들의 기술 개발 생산성을 높이고 혁신 속도에 박차를 가하기 위해 ChatGPT 사내 확대 도입도 검토하고 있다.\\n\\nTAGSAI데이터센터메모리 솔루션\\n\\n기업뉴스 > 경영일반\\n\\n기업뉴스\\n\\n프레스센터 > 보도자료\\n\\n프레스센터\\n\\n보다 다양한 삼성전자 소식은? [...] 또한, 삼성전자는 패키징 기술, 메모리·시스템 반도체 융복합 기술 측면에도 OpenAI에 차별화된 솔루션을 제공할 수 있다.\\n\\n삼성SDS는 OpenAI와 AI 데이터센터 공동 개발, 기업용 AI 서비스 제공에 대한 파트너십을 맺었다.\\n\\n삼성SDS는 첨단 데이터센터 기술을 기반으로 OpenAI 스타게이트 AI 데이터센터의 ▲설계 ▲구축 ▲운영 분야에서 협력할 예정이다.\\n\\nLOI를 통해 삼성SDS는 OpenAI 모델을 사내 업무 시스템에 도입하길 원하는 기업들을 대상으로 ▲컨설팅 ▲구축 ▲운영 사업을 진행할 수 있게 됐다.\\n\\n또한, 삼성SDS는 국내 최초로 OpenAI 기업용 서비스를 판매하고 기술 지원할 수 있는 리셀러 파트너십을 체결해, 향후 국내 기업들이 OpenAI ChatGPT Enterprise 서비스를 사용할 수 있도록 지원할 예정이다. [...] LOI 체결식에는 ▲전영현 삼성전자 부회장 ▲최성안 삼성중공업 부회장 ▲오세철 삼성물산 사장 ▲이준희 삼성SDS 사장이 참석했다.\\n\\n삼성전자는 스타게이트 프로젝트를 진행하고 있는 OpenAI가 고성능·저전력 메모리를 원활하게 공급받을 수 있도록 지원할 계획이다.\\n\\n스타게이트 프로젝트는 OpenAI가 글로벌 기술·투자 기업들과 함께 슈퍼컴퓨터와 데이터센터를 건설하는 대규모 프로젝트이다.\\n\\n삼성전자는 OpenAI의 전략적 파트너로서 OpenAI가 메모리 솔루션 수급에 어려움을 겪지 않도록 지원할 방침이다. OpenAI는 웨이퍼 기준 월 90만 매의 대량의 고성능 D램이 필요할 것으로 전망하고 있다.\\n\\n삼성전자는 ▲메모리 반도체 ▲시스템 반도체 ▲파운드리 사업 역량을 모두 보유하고 있는 종합 반도체 회사로, AI 학습과 추론 전 과정에 필요한 다양한 제품 포트폴리오를 갖추고 있다.', 'score': 0.79845446, 'raw_content': None}, {'url': 'https://www.mt.co.kr/industry/2025/09/02/2025082713411688151', 'title': \"삼성·현대차 등 '피지컬 AI' 도입 확산…기술한계·일자리 문제도\", 'content': \"삼성전자(96,600원 ▼900 -0.92%)는 지난해 12월 국내 대표 로봇 전문기업인 레인보우로보틱스의 최대주주로 올라서면서 피지컬 AI 업계에 뛰어들었다. 레인보우로보틱스는 국내 최초로 2족 보행 로봇 '휴보'를 개발한 카이스트 휴보 랩(Lab) 연구진이 2011년 설립한 로봇 전문기업이다.\\n\\n삼성전자는 로봇 계열사 확보를 계기로 대표이사 직속의 미래로봇추진단을 신설하고 원천기술 확보에 나섰다. 두 회사 간 시너지 협의체도 운영한다. 삼성전자는 레인보우로보틱스의 협동로봇, 양팔로봇, 자율이동로봇 등을 제조·물류 등 업무 자동화에 활용하고 레인보우로보틱스는 삼성전자의 글로벌 영업 인프라를 기반으로 해외 시장에 진출하는 식이다. 삼성전자는 내부에 피지컬 AI 기술을 활용한 제조 자동화 등을 추진하는 '이노엑스 랩'도 8월 신설했다.\", 'score': 0.7440808, 'raw_content': None}, {'url': 'https://www.samsung-dsrecruit.com/recruits/division_intro/detail/ai_center.php', 'title': 'AI센터 | 사업부소개 - 삼성전자 DS부문 채용', 'content': 'AI 기술을 활용하여 컴퓨터 비전, ML 알고리즘, LLM 등 반도체 도메인 중심의 DS 사업에 특화된 기술을 개발하고, Data, IT, S/W와의 시너지를 통해 AI 활용을 가속화하고 있습니다. 또한, 세계 최고 수준의 S/W 품질을 확보하고 경쟁력을 고도화하기 위해 S/W Engineering 기술을 연구하고 개발하며, S/W 개발 프로세스 및 인프라를 연구하여 표준화를 선도하고 있습니다. Digital Transformation을 선도하여 IT Governance를 강화하고 DS부문의 일하는 문화 경험을 새롭게 창출합니다. AI, ML, DL 등 전문 데이터 처리 기법을 활용한 기술 개발 및 Platform 구축, Data Center와 Cloud Infra 확보/제공 및 HPC와 IT H/W 전략을 수립하고 있으며, FAB 스케줄링, 설비/인프라 제어 및 고도화를 통해 미래 MES(Manufacturing Execution System)을 구현합니다.\\n\\nAI센터의 전망 [...] AI센터는 DS부문 내 유일한 AI 기술 개발 조직으로, AI 중심의 기술 패러다임 변화에 따라 DS부문의 미래 성장 동력이 될 것입니다. 단순히 IT Infra를 제공하는 역할을 넘어 Data 기반으로 일하는 문화를 구축하고, 세계 최고 수준의 S/W 최적화, 물류 로봇 경쟁력 강화 등 반도체 비즈니스에 특화된 AI 기술을 개발/적용함으로써 세상을 바꾸는 변화를 만들겠습니다.\\n\\n연관직무\\n\\n신호 및 시스템설계\\n\\nData 및 신기술(AI, ML 등)을 바탕으로 DS 부문의 IT 인프라/서비스 설계 및 개발을 통해 Autonomous Factory 구축을 목표로 연구 개발하는 직무 S/W 개발\\n\\nS/W 기술에 대한 전문 지식을 바탕으로, DS부문 반도체 생산 관련 시스템을 개발하고 S/W 개발 문화를 개선하며 품질을 향상시키는 직무 기구개발 [...] DS부문의 CIO(Chief Information Officer) 조직으로 AI, IT/System, S/W 및 IT Infra 고도화를 담당하며, IT One-stop Support를 통해 반도체 비즈니스의 실행력과 경쟁력을 강화합니다.\\n\\nAI센터가 하는 일', 'score': 0.7208996, 'raw_content': None}, {'url': 'https://news.samsungsemiconductor.com/kr/%EC%B9%A9%EC%8A%A4%EC%BC%80%EC%B9%98-ai%EA%B0%80-%EA%B0%80%EC%A0%B8%EC%98%AC-%EB%B0%98%EB%8F%84%EC%B2%B4-%EC%82%B0%EC%97%85%EC%9D%98-%EB%AF%B8%EB%9E%98%EB%8A%94-%EC%82%BC%EC%84%B1-ai/', 'title': \"[칩스케치] AI가 가져올 반도체 산업의 미래는? '삼성 AI 포럼 2025'에서 ...\", 'content': '기술 세션에서는 반도체 설계와 제조 분야에서의 AI 응용 사례와 최신 연구 성과, 그리고 향후 전망 등이 공유됐다.\\n\\n먼저 삼성전자 DS부문 AI센터장 송용호 부사장은 “제조 분야에서도 제조 복잡성 증가에 따른 기술적 한계를 극복하는 데 AI의 역할이 커질 것”이라고 전망하며, “수백 개 공정과 수개월의 반도체 제조 과정에서 축적되는 방대한 양의 데이터를 체계적으로 관리하고 양질의 데이터로 발전시키는 것이 무엇보다 중요하다”고 강조했다.\\n\\n포항공과대학교(POSTECH) 강석형 교수\\n\\n한국과학기술원(KAIST) 문일철 교수 [...] 삼성전자 DS부문이 주관한 1일 차 포럼은 ‘반도체 산업의 버티컬(Vertical) AI 전략과 비전’을 주제로, 용인 기흥에 위치한 DS부문 교육시설 The UniverSE에서 열렸다. 행사에는 학계와 업계 전문가, 임직원 등 온·오프라인을 통해 1600여 명이 참석했다. 특히 올해 포럼은 세계적인 AI 석학들의 강연과 신진 연구자들의 학술 성과 발표가 함께 진행돼, 참관객들이 최신 혁신 사례를 접하고 새로운 성장 가능성을 모색할 수 있었다.\\n\\n삼성전자 전영현 대표이사 부회장은 개회사를 통해 “삼성전자는 다양한 업무영역에 AI 기술을 적용해 언제 어디서나 쉽고 빠르게 AI를 활용할 수 있는 기반 기술을 개발하고 있다”며, “오늘 이 자리는 AI가 사회와 산업을 어떻게 변화시키는지 논의하고 더 나은 세상을 위해 지혜를 나누는 뜻깊은 시간이 될 것”이라고 말했다.\\n\\n🚩 ‘AI가 여는 새로운 가능성’을 말하다\\n\\n요슈아 벤지오(Yoshua Bengio) 캐나다 몬트리올대 교수 [...] 포항공과대학교(POSTECH) 윤종호 님은 반도체 칩 설계 과정에서 주요 기능 블록들의 위치를 지정하는 매크로 플레이스먼트(Macro Placement) 작업을 AI 생성 모델인 디퓨전 모델로 대체하는 연구를 소개하며, “더 나은 품질의 설계를 빠른 시간 안에 구현할 수 있음을 확인했다”고 전했다. 또한 “이번 포럼에서 EDA 분야 강연을 통해 연구의 확장 가능성을 발견했고, 이 경험을 계기로 연구에 더 정진할 계획”이라고 말했다.\\n\\n산업 발전을 가속화하기 위해서는 유기적으로 연결된 다양한 분야의 글로벌 전문가들이 모여 현재를 진단하고 미래를 논의하는 과정이 필수적이다. 삼성전자는 앞으로도 삼성 AI 포럼과 같은 교류의 장을 지속적으로 마련해, 반도체 산업의 지속가능한 성장을 도모할 예정이다.\\n\\n|  |', 'score': 0.6824261, 'raw_content': None}, {'url': 'https://techbrew.co.kr/ittrend/?bmode=view&idx=166508322', 'title': \"AI 시대 '보안과 혁신' 딜레마…삼성 사례로 본 기업 AI 정책의 현주소\", 'content': '2025, \\'챗GPT 금지령\\' 삼성전자… 자체 AI 코딩 도입, 디지털포스트   - 2025, AI Security 가이드라인 발표 예정, KISA   - 2025, 기업 96%가 AI 에이전트를 보안 위협으로 인식, 세일포인트   - 2025, AWS, 생성형 AI 도입 현황 연구 결과 발표, AWS   - 2025, 세계의 인공지능(AI) 거버넌스 시장(2025-2029년), 시장조사기관   - 2025, 영국의 AI 안보 전략과 시사점, 정책연구기관   - 2024, 삼성전자 경계현 사장 \"사내 생성형 AI 툴, 디지털 혁신 가속\", 전자신문   - 2024, 삼성 노조 \"혁신적 시도로 위기극복\"…챗GPT 사용제한 해제 제안, 뉴시스   - 2024, 2025년 사이버보안 10대 이슈, KISA   - 2024, 제로트러스트 가이드라인 2.0 발표, KISA   - 2024, 금융보안원, AI 보안 가이드라인·보안성 검증체계 마련, 금융보안원   - 2024, 2024년 AI [...] 환경에 맞게 구체화하는 것도 중요하다.  혁신과 보안의 동반 성장  삼성전자 DS부문 사례는 기업들이 AI 시대에 직면한 복잡한 현실을 보여준다. 보안을 위해 혁신을 포기할 수도, 혁신을 위해 보안을 외면할 수도 없는 상황이다. 해답은 점진적 개방과 지속적 개선에 있다. 처음부터 완벽한 시스템을 구축하려 하기보다는, 작은 범위에서 시작해 경험을 축적하며 점차 확대하는 접근이 현실적이다.  AI는 더 이상 선택이 아닌 필수가 되었지만, 그 활용 방식은 각 기업의 상황과 전략에 따라 달라져야 한다. 중요한 것은 기술 자체가 아니라 그 기술을 통해 어떤 가치를 창출할 것인가에 대한 명확한 비전이다. 삼성전자를 비롯한 국내 기업들이 이러한 시행착오를 통해 더 성숙한 AI 거버넌스 체계를 구축해나갈 것으로 기대된다.    이미지: perplexity 생성            참고자료   - 2025, 삼성 반도체 \\'챗GPT\\' 허가제에…직원들 안 쓰니 업무 어렵네, 네이트뉴스   - [...] 경우, 2023년 DS부문에서 직원들이 소스코드와 회의 내용을 챗GPT에 입력하는 사고가 발생한 후, 전사적으로 외부 생성형 AI 사용을 제한하기 시작했다. DX부문은 완전 금지 정책을 택해 자체 AI 모델 \\'가우스\\'로 대체했고, DS부문은 상대적으로 유연한 정책을 유지해왔으나 최근 승인제로 전환하며 사실상 사용을 제한했다.  내부 AI의 한계, 직원 불만 증폭  문제는 대안으로 제시된 사내 생성형 AI들의 성능이 직원들의 기대에 못 미치고 있다는 점이다. 삼성전자 DS부문의 \\'DS 어시스턴트\\'는 \"단순한 계산식이나 날짜를 묻는 쉬운 질문에도 제대로 대답하지 못하고, 엉뚱한 답변을 내놓는\" 상황이 발생하고 있다. 이는 국내 기업들이 직면한 공통적 문제로, 사내 AI 도입이 실패하는 주요 원인 중 하나가 \\'내부 운용 기술력 부족(28.8%)\\'이라는 조사 결과와도 일맥상통한다.    그래픽: 기업의 AI 도입 실패를 야기하는 주요 요인들의 비중 분석, 테크브루    글로벌 기업들의', 'score': 0.64128816, 'raw_content': None}], 'response_time': 3.44, 'request_id': '23cbadbb-afad-4ce8-b372-1a8a7a12e4ed'}\u001b[0m\u001b[32;1m\u001b[1;3m삼성전자가 AI를 도입하면 좋을 사업 분야는 다음과 같습니다:\n",
      "\n",
      "1. 반도체 사업: AI를 활용해 반도체 설계, 제조 공정의 복잡성 극복, 데이터 관리 및 품질 향상에 기여할 수 있습니다. 삼성전자 DS부문 AI센터는 반도체 도메인에 특화된 AI 기술을 개발 중입니다.\n",
      "\n",
      "2. AI 데이터센터: 삼성전자는 OpenAI와 협력해 AI 데이터센터 혁신을 주도하며, 고성능·저전력 메모리 공급과 AI 데이터센터 설계, 구축, 운영에 참여하고 있습니다.\n",
      "\n",
      "3. 로봇 및 제조 자동화: 삼성전자는 로봇 전문기업 레인보우로보틱스와 협력해 협동로봇, 자율이동로봇 등을 제조 및 물류 업무 자동화에 활용하고 있습니다.\n",
      "\n",
      "4. 사내 업무 효율화: ChatGPT 등 생성형 AI를 사내 도입해 임직원들의 기술 개발 생산성을 높이고 혁신 속도를 가속화하는 방안을 검토 중입니다.\n",
      "\n",
      "이 외에도 AI를 활용한 IT 인프라 고도화, 소프트웨어 개발 및 품질 향상, 물류 로봇 경쟁력 강화 등 다양한 분야에서 AI 도입이 진행되고 있습니다.\u001b[0m\n",
      "\n",
      "\u001b[1m> Finished chain.\u001b[0m\n"
     ]
    },
    {
     "data": {
      "text/plain": [
       "{'input': '삼성전자가 ai를 도입하면 좋을만한 사업에 대해서 자세하게 찾아줘',\n",
       " 'output': '삼성전자가 AI를 도입하면 좋을 사업 분야는 다음과 같습니다:\\n\\n1. 반도체 사업: AI를 활용해 반도체 설계, 제조 공정의 복잡성 극복, 데이터 관리 및 품질 향상에 기여할 수 있습니다. 삼성전자 DS부문 AI센터는 반도체 도메인에 특화된 AI 기술을 개발 중입니다.\\n\\n2. AI 데이터센터: 삼성전자는 OpenAI와 협력해 AI 데이터센터 혁신을 주도하며, 고성능·저전력 메모리 공급과 AI 데이터센터 설계, 구축, 운영에 참여하고 있습니다.\\n\\n3. 로봇 및 제조 자동화: 삼성전자는 로봇 전문기업 레인보우로보틱스와 협력해 협동로봇, 자율이동로봇 등을 제조 및 물류 업무 자동화에 활용하고 있습니다.\\n\\n4. 사내 업무 효율화: ChatGPT 등 생성형 AI를 사내 도입해 임직원들의 기술 개발 생산성을 높이고 혁신 속도를 가속화하는 방안을 검토 중입니다.\\n\\n이 외에도 AI를 활용한 IT 인프라 고도화, 소프트웨어 개발 및 품질 향상, 물류 로봇 경쟁력 강화 등 다양한 분야에서 AI 도입이 진행되고 있습니다.'}"
      ]
     },
     "execution_count": 5,
     "metadata": {},
     "output_type": "execute_result"
    }
   ],
   "source": [
    "result = executor.invoke({'input' : '삼성전자가 ai를 도입하면 좋을만한 사업에 대해서 자세하게 찾아줘'})\n",
    "result"
   ]
  },
  {
   "cell_type": "code",
   "execution_count": 7,
   "id": "33a39ffb",
   "metadata": {},
   "outputs": [
    {
     "name": "stdout",
     "output_type": "stream",
     "text": [
      "collections=[CollectionDescription(name='kpop_demon_hunters')]\n"
     ]
    }
   ],
   "source": [
    "from qdrant_client import QdrantClient\n",
    "\n",
    "# Qdrant 서버 접속\n",
    "client = QdrantClient(url=\"http://localhost:6333\")\n",
    "\n",
    "# 서버 정상 동작 확인\n",
    "print(client.get_collections())"
   ]
  },
  {
   "cell_type": "code",
   "execution_count": null,
   "id": "0300e851",
   "metadata": {},
   "outputs": [],
   "source": [
    "from datetime import datetime\n",
    "\n",
    "from langchain.schema import Document\n",
    "from langchain_openai.embeddings import OpenAIEmbeddings\n",
    "from langchain_community.vectorstores import Qdrant\n",
    "from langchain.text_splitter import RecursiveCharacterTextSplitter\n",
    "\n",
    "# 1. 텍스트 쪼개기\n",
    "splitter = RecursiveCharacterTextSplitter(chunk_size=500, chunk_overlap=50)\n",
    "chunks = splitter.split_text(result[\"output\"])\n",
    "\n",
    "# 2. Document로 감싸기\n",
    "today = datetime.now().strftime(\"%Y%m%d\")# (예: '20251021')\n",
    "\n",
    "docs = [\n",
    "    Document(\n",
    "        page_content=chunk,\n",
    "        metadata={\"source\": f\"samsung_external_web_{today}\", \"chunk_id\": i}\n",
    "    )\n",
    "    for i, chunk in enumerate(chunks)\n",
    "]\n",
    "\n",
    "# 3. 임베딩\n",
    "embedding = OpenAIEmbeddings(model=\"text-embedding-3-small\")\n",
    "\n",
    "# 4. Qdrant에 저장\n",
    "db = Qdrant.from_documents(\n",
    "    documents=docs,\n",
    "    embedding=embedding,\n",
    "    collection_name=\"samsung_external_web\"\n",
    ")"
   ]
  },
  {
   "cell_type": "markdown",
   "id": "a06bceb9",
   "metadata": {},
   "source": [
    "# 2. PDF"
   ]
  },
  {
   "cell_type": "code",
   "execution_count": 21,
   "id": "7ad97f75",
   "metadata": {},
   "outputs": [],
   "source": [
    "from dotenv import load_dotenv\n",
    "\n",
    "from langchain_openai import OpenAIEmbeddings\n",
    "from langchain_community.document_loaders import PDFPlumberLoader"
   ]
  },
  {
   "cell_type": "code",
   "execution_count": 22,
   "id": "f344632b",
   "metadata": {},
   "outputs": [
    {
     "name": "stdout",
     "output_type": "stream",
     "text": [
      "87\n"
     ]
    }
   ],
   "source": [
    "embedding = OpenAIEmbeddings(model='text-embedding-3-small')\n",
    "\n",
    "samsung_vision_2025_path = '../../raw_data/Samsung_Electronics_Sustainability_Report_2025_KOR.pdf'\n",
    "docs_2025 = PDFPlumberLoader(samsung_vision_2025_path).load()\n",
    "\n",
    "print(len(docs_2025))"
   ]
  },
  {
   "cell_type": "code",
   "execution_count": null,
   "id": "8880df3f",
   "metadata": {},
   "outputs": [],
   "source": [
    "from datetime import datetime\n",
    "\n",
    "from langchain.schema import Document\n",
    "from langchain_openai.embeddings import OpenAIEmbeddings\n",
    "from langchain_community.vectorstores import Qdrant\n",
    "from langchain.text_splitter import RecursiveCharacterTextSplitter\n",
    "\n",
    "# 1. 텍스트 쪼개기\n",
    "splitter = RecursiveCharacterTextSplitter(chunk_size=1000, chunk_overlap=100)\n",
    "docs = splitter.split_documents(docs_2025)\n",
    "\n",
    "# 2. Document로 감싸기\n",
    "today = datetime.now().strftime(\"%Y%m%d\")# (예: '20251021')\n",
    "\n",
    "# 3. 임베딩\n",
    "embedding = OpenAIEmbeddings(model=\"text-embedding-3-small\")\n",
    "\n",
    "# 4. Qdrant에 저장\n",
    "db = Qdrant.from_documents(\n",
    "    documents=docs,\n",
    "    embedding=embedding,\n",
    "    collection_name=\"samsung_external_pdf\"\n",
    ")"
   ]
  }
 ],
 "metadata": {
  "kernelspec": {
   "display_name": "kalantir-consulting-ai-agent",
   "language": "python",
   "name": "python3"
  },
  "language_info": {
   "codemirror_mode": {
    "name": "ipython",
    "version": 3
   },
   "file_extension": ".py",
   "mimetype": "text/x-python",
   "name": "python",
   "nbconvert_exporter": "python",
   "pygments_lexer": "ipython3",
   "version": "3.11.13"
  }
 },
 "nbformat": 4,
 "nbformat_minor": 5
}
